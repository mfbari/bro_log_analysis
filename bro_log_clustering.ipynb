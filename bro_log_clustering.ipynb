{
  "nbformat": 4,
  "nbformat_minor": 0,
  "metadata": {
    "colab": {
      "name": "bro_log_clustering.ipynb",
      "version": "0.3.2",
      "provenance": [],
      "include_colab_link": true
    },
    "kernelspec": {
      "name": "python3",
      "display_name": "Python 3"
    }
  },
  "cells": [
    {
      "cell_type": "markdown",
      "metadata": {
        "id": "view-in-github",
        "colab_type": "text"
      },
      "source": [
        "<a href=\"https://colab.research.google.com/github/mfbari/bro_log_analysis/blob/master/bro_log_clustering.ipynb\" target=\"_parent\"><img src=\"https://colab.research.google.com/assets/colab-badge.svg\" alt=\"Open In Colab\"/></a>"
      ]
    },
    {
      "cell_type": "markdown",
      "metadata": {
        "id": "S9m1-bbFNpDr",
        "colab_type": "text"
      },
      "source": [
        "Colab notebook to cluster Bro log files"
      ]
    },
    {
      "cell_type": "code",
      "metadata": {
        "id": "fXFHtCdDNnl5",
        "colab_type": "code",
        "colab": {}
      },
      "source": [
        "import bat"
      ],
      "execution_count": 0,
      "outputs": []
    }
  ]
}